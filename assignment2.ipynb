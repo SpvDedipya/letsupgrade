{
  "nbformat": 4,
  "nbformat_minor": 0,
  "metadata": {
    "colab": {
      "name": "assignment2.ipynb",
      "provenance": []
    },
    "kernelspec": {
      "name": "python3",
      "display_name": "Python 3"
    },
    "language_info": {
      "name": "python"
    }
  },
  "cells": [
    {
      "cell_type": "code",
      "metadata": {
        "id": "79jcgyIscTQH",
        "colab": {
          "base_uri": "https://localhost:8080/"
        },
        "outputId": "c22736c1-65ea-49e0-e6ba-1c890c3b82e2"
      },
      "source": [
        "lst=[1,2,3,2,2,4,6,5]\n",
        "print(lst)\n",
        "print(list(filter(lambda a:a!=2,lst)))"
      ],
      "execution_count": 37,
      "outputs": [
        {
          "output_type": "stream",
          "text": [
            "[1, 2, 3, 2, 2, 4, 6, 5]\n",
            "[1, 3, 4, 6, 5]\n"
          ],
          "name": "stdout"
        }
      ]
    },
    {
      "cell_type": "code",
      "metadata": {
        "colab": {
          "base_uri": "https://localhost:8080/"
        },
        "id": "JNu3sGk5uRwl",
        "outputId": "489cb0f8-d2f8-47b6-96cd-f1b94b74ff24"
      },
      "source": [
        "import string\n",
        "def ispangram(str):\n",
        "   alphabet = \"abcdefghijklmnopqrstuvwxyz\"\n",
        "   for char in alphabet:\n",
        "      if char not in str.lower():\n",
        "         return False\n",
        "   return True\n",
        "\n",
        "string = 'The quick brown fox jumps over the lazy dog.'\n",
        "if(ispangram(string) == True):\n",
        "   print(\"Yes\")\n",
        "else:\n",
        "   print(\"No\")"
      ],
      "execution_count": 31,
      "outputs": [
        {
          "output_type": "stream",
          "text": [
            "Yes\n"
          ],
          "name": "stdout"
        }
      ]
    }
  ]
}
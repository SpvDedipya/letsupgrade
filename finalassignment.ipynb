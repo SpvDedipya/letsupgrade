{
  "nbformat": 4,
  "nbformat_minor": 0,
  "metadata": {
    "colab": {
      "name": "finalassignment.ipynb",
      "provenance": []
    },
    "kernelspec": {
      "name": "python3",
      "display_name": "Python 3"
    },
    "language_info": {
      "name": "python"
    }
  },
  "cells": [
    {
      "cell_type": "code",
      "metadata": {
        "colab": {
          "base_uri": "https://localhost:8080/"
        },
        "id": "vkgJKsArv5qb",
        "outputId": "5d8e94e8-f056-4074-b7f1-e0cd05228fe4"
      },
      "source": [
        "cel=float(input('Enter celsius temperature: '))  \n",
        "fahrenheit=(cel*1.8)+32  \n",
        "print(cel,fahrenheit)"
      ],
      "execution_count": 3,
      "outputs": [
        {
          "output_type": "stream",
          "text": [
            "Enter celsius temperature: 15\n",
            "15.0 59.0\n"
          ],
          "name": "stdout"
        }
      ]
    }
  ]
}
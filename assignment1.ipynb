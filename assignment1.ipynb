{
  "nbformat": 4,
  "nbformat_minor": 0,
  "metadata": {
    "colab": {
      "name": "assignment1.ipynb",
      "provenance": [],
      "collapsed_sections": []
    },
    "kernelspec": {
      "name": "python3",
      "display_name": "Python 3"
    },
    "language_info": {
      "name": "python"
    }
  },
  "cells": [
    {
      "cell_type": "code",
      "metadata": {
        "colab": {
          "base_uri": "https://localhost:8080/"
        },
        "id": "wMfHnzFSavpA",
        "outputId": "0aa0ca80-1650-4d2f-88eb-5eac8c3789a0"
      },
      "source": [
        "n=int(input(\"Enter number of elements to be inserted :\"))\n",
        "lst=[]\n",
        "for i in range(n):\n",
        "  lst.append(int(input(\"Enter a number : \")))\n",
        "lst.sort(reverse=True)\n",
        "print(lst)"
      ],
      "execution_count": 2,
      "outputs": [
        {
          "output_type": "stream",
          "text": [
            "Enter number of elements to be inserted :5\n",
            "Enter a number : 6\n",
            "Enter a number : 5\n",
            "Enter a number : 7\n",
            "Enter a number : 3\n",
            "Enter a number : 1\n",
            "[7, 6, 5, 3, 1]\n"
          ],
          "name": "stdout"
        }
      ]
    }
  ]
}